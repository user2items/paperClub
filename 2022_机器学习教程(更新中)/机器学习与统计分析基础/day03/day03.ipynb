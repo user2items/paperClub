{
 "cells": [
  {
   "cell_type": "code",
   "execution_count": null,
   "metadata": {},
   "outputs": [],
   "source": [
    "import numpy as np\n",
    "import random\n",
    "from scipy import stats\n",
    "import pandas as pd\n",
    "import matplotlib.pyplot as plt\n",
    "import seaborn as sns\n",
    "from matplotlib.colors import ListedColormap\n",
    "from sklearn.cluster import KMeans\n",
    "%matplotlib inline\n",
    "plt.rcParams['font.sans-serif'] = ['SimHei']\n",
    "plt.rcParams['axes.unicode_minus'] = False\n",
    "\n",
    "import warnings\n",
    "warnings.filterwarnings('ignore')"
   ]
  },
  {
   "cell_type": "code",
   "execution_count": null,
   "metadata": {},
   "outputs": [],
   "source": [
    "def china_map_display(df):\n",
    "    df['经度'] = pd.to_numeric(df['经度'])\n",
    "    df['纬度'] = pd.to_numeric(df['纬度'])\n",
    "    colors=np.random.rand(df.shape[0]) \n",
    "    plt.scatter(df['经度'], df['纬度'], s=6, alpha=.5)\n",
    "    plt.xticks([]), plt.yticks([]),plt.title(\"中国地图\")\n",
    "    plt.xlabel('纬度'),plt.ylabel('纬度')\n",
    "    plt.show()\n",
    "\n",
    "df = pd.read_csv(\"../data/city.txt\", names=['省级', '县级', '经度', '纬度'])\n",
    "china_map_display(df)\n",
    "df\n"
   ]
  },
  {
   "cell_type": "code",
   "execution_count": null,
   "metadata": {},
   "outputs": [],
   "source": [
    "X = df.iloc[:,2:].values ## 经纬度\n",
    "y = df.iloc[:,:2].values ## 省市名称\n",
    "n_cluster = 5\n",
    "cls = KMeans(n_clusters=n_cluster).fit(X) ## 创建模型并训练\n",
    "cls.labels_ ## 聚类标签\n",
    "\n",
    "markers = [\"^\", 'x', 'o', '*', '+']\n",
    "for i in range(n_cluster): \n",
    "    members = cls.labels_ == i \n",
    "    plt.scatter(X[members,0] , X[members, 1], s=60, marker = markers[i], c ='b', alpha=0.5)\n",
    "\n",
    "plt.title(\"地图数据聚类\")\n",
    "plt.show()"
   ]
  },
  {
   "cell_type": "markdown",
   "metadata": {},
   "source": [
    "## sklearn"
   ]
  },
  {
   "cell_type": "code",
   "execution_count": null,
   "metadata": {},
   "outputs": [],
   "source": [
    "from sklearn.model_selection import train_test_split\n",
    "from IPython.display import Image\n",
    "from sklearn.linear_model import Perceptron\n",
    "from sklearn.preprocessing import StandardScaler\n",
    "from sklearn.metrics import accuracy_score\n",
    "from sklearn.metrics import accuracy_score\n",
    "import seaborn as sns\n",
    "import pandas as pd\n",
    "\n",
    "### 加载数据集\n",
    "iris = pd.read_csv('../data/iris.csv')\n",
    "iris.rename(columns={\"sepal.length\": \"sepal_length\",\n",
    "                     \"sepal.width\": \"sepal_width\",\n",
    "                     \"petal.length\": \"petal_length\",\n",
    "                     \"petal.width\": \"petal_width\"}, \n",
    "            inplace=True)\n",
    "\n",
    "\n",
    "X = iris.iloc[:, [2, 3]].values ## 第3/4列数据\n",
    "# X = iris.iloc[:, [2]].values ## 第3/4列数据\n",
    "y = iris['target'] = iris['variety'].astype('category').cat.codes\n",
    "## 编码字典\n",
    "target2label = dict(zip(iris['variety'].values, iris['target'].values))\n",
    "\n",
    "iris\n"
   ]
  },
  {
   "cell_type": "code",
   "execution_count": null,
   "metadata": {},
   "outputs": [],
   "source": [
    "#### 显示数据分布\n",
    "iris.describe()"
   ]
  },
  {
   "cell_type": "code",
   "execution_count": 5,
   "metadata": {},
   "outputs": [
    {
     "ename": "NameError",
     "evalue": "name 'iris' is not defined",
     "output_type": "error",
     "traceback": [
      "\u001b[1;31m---------------------------------------------------------------------------\u001b[0m",
      "\u001b[1;31mNameError\u001b[0m                                 Traceback (most recent call last)",
      "\u001b[1;32m<ipython-input-5-841671c02a69>\u001b[0m in \u001b[0;36m<module>\u001b[1;34m\u001b[0m\n\u001b[0;32m      1\u001b[0m \u001b[1;31m### 绘图\u001b[0m\u001b[1;33m\u001b[0m\u001b[1;33m\u001b[0m\u001b[0m\n\u001b[0;32m      2\u001b[0m \u001b[1;33m\u001b[0m\u001b[0m\n\u001b[1;32m----> 3\u001b[1;33m \u001b[0mmean_pl\u001b[0m \u001b[1;33m=\u001b[0m \u001b[0mnp\u001b[0m\u001b[1;33m.\u001b[0m\u001b[0mmean\u001b[0m\u001b[1;33m(\u001b[0m\u001b[0miris\u001b[0m\u001b[1;33m[\u001b[0m\u001b[1;34m'petal_length'\u001b[0m\u001b[1;33m]\u001b[0m\u001b[1;33m.\u001b[0m\u001b[0mvalues\u001b[0m\u001b[1;33m,\u001b[0m \u001b[0maxis\u001b[0m\u001b[1;33m=\u001b[0m\u001b[1;36m0\u001b[0m\u001b[1;33m)\u001b[0m\u001b[1;33m\u001b[0m\u001b[0m\n\u001b[0m\u001b[0;32m      4\u001b[0m \u001b[0mmedian_pl\u001b[0m \u001b[1;33m=\u001b[0m \u001b[0mnp\u001b[0m\u001b[1;33m.\u001b[0m\u001b[0mmedian\u001b[0m\u001b[1;33m(\u001b[0m\u001b[0miris\u001b[0m\u001b[1;33m[\u001b[0m\u001b[1;34m'petal_length'\u001b[0m\u001b[1;33m]\u001b[0m\u001b[1;33m.\u001b[0m\u001b[0mvalues\u001b[0m\u001b[1;33m,\u001b[0m \u001b[0maxis\u001b[0m\u001b[1;33m=\u001b[0m\u001b[1;36m0\u001b[0m\u001b[1;33m)\u001b[0m\u001b[1;33m\u001b[0m\u001b[0m\n\u001b[0;32m      5\u001b[0m \u001b[0mstd_pl\u001b[0m \u001b[1;33m=\u001b[0m \u001b[0mnp\u001b[0m\u001b[1;33m.\u001b[0m\u001b[0mstd\u001b[0m\u001b[1;33m(\u001b[0m\u001b[0miris\u001b[0m\u001b[1;33m[\u001b[0m\u001b[1;34m'petal_length'\u001b[0m\u001b[1;33m]\u001b[0m\u001b[1;33m.\u001b[0m\u001b[0mvalues\u001b[0m\u001b[1;33m,\u001b[0m \u001b[0maxis\u001b[0m\u001b[1;33m=\u001b[0m\u001b[1;36m0\u001b[0m\u001b[1;33m)\u001b[0m\u001b[1;33m\u001b[0m\u001b[0m\n",
      "\u001b[1;31mNameError\u001b[0m: name 'iris' is not defined"
     ]
    }
   ],
   "source": [
    "### 绘图\n",
    "\n",
    "mean_pl = np.mean(iris['petal_length'].values, axis=0)\n",
    "median_pl = np.median(iris['petal_length'].values, axis=0)\n",
    "std_pl = np.std(iris['petal_length'].values, axis=0)\n",
    "\n",
    "fig,axes = plt.subplots(nrows=1, ncols=4, figsize=(12, 5))\n",
    "sns.stripplot(x=\"target\", y=\"petal_length\",jitter=True, data=iris, ax=axes[0]), axes[0].set_title('花瓣长度与种类')\n",
    "sns.stripplot(y=\"petal_length\", data=iris, ax=axes[1], linewidth=0.01), axes[1].set_title('花瓣长度散点图')\n",
    "\n",
    "axes[2].plot(np.arange(len(iris['petal_length'].tolist())), iris['petal_length'].tolist(), '.'),axes[2].set_title('花瓣长度与分布')\n",
    "axes[2].hlines(y=mean_pl, xmin=0, xmax=len(iris['petal_length'].tolist()), color='r', linestyles='solid')\n",
    "axes[2].hlines(y=median_pl, xmin=0, xmax=len(iris['petal_length'].tolist()), color='black', linestyles='solid')\n",
    "axes[2].hlines(y=mean_pl + std_pl, xmin=0, xmax=len(iris['petal_length'].tolist()), color='r', linestyles='dashed')\n",
    "axes[2].hlines(y=mean_pl - std_pl, xmin=0, xmax=len(iris['petal_length'].tolist()), color='r', linestyles='dashed')\n",
    "\n",
    "sns.swarmplot(y=iris.petal_length, ax=axes[3], alpha=0.5, color='r'), axes[3].set_title('花瓣长度与分布情况')\n",
    "sns.boxplot(y=\"petal_length\", data=iris, ax=axes[3], color='yellow', notch = True)\n",
    "\n",
    "\n",
    "print(mean_pl, median_pl, std_pl)"
   ]
  },
  {
   "cell_type": "markdown",
   "metadata": {},
   "source": [
    "### 花瓣长度(petal-length)在不同组间差异较大"
   ]
  },
  {
   "cell_type": "markdown",
   "metadata": {},
   "source": [
    "##### 和sepal_width、sepal_length相比，petal_length、petal_width在不同组间variety 差异较大，即在不同组间有较好的区分度"
   ]
  },
  {
   "cell_type": "code",
   "execution_count": null,
   "metadata": {},
   "outputs": [],
   "source": [
    "\n",
    "# iris['variety'] = iris['variety'].astype('category')\n",
    "pd.pivot_table(iris,  columns=['variety'], aggfunc='mean')\n"
   ]
  },
  {
   "cell_type": "code",
   "execution_count": null,
   "metadata": {},
   "outputs": [],
   "source": [
    "def get_std(column, variety, method=1):\n",
    "    data = iris[iris[\"variety\"]==variety][column].values\n",
    "    v = np.std(data) if method == 1 else np.mean(data)\n",
    "    \n",
    "    return v\n",
    "\n",
    "names = [\"Setosa\", \"Versicolor\", \"Virginica\"]\n",
    "factors = [\"petal_length\", 'petal_width', 'sepal_length', 'sepal_width']\n",
    "\n",
    "from collections import defaultdict\n",
    "\n",
    "std = defaultdict(list)\n",
    "for variety in names:\n",
    "    for column in factors:\n",
    "        v = get_std(column, variety)\n",
    "        std[variety].append(v)\n",
    "\n",
    "mean = defaultdict(list)\n",
    "for variety in names:\n",
    "    for column in factors:\n",
    "        v = get_std(column, variety, method=2)\n",
    "        mean[variety].append(v)\n",
    "\n",
    "std=pd.DataFrame(std, index=factors)\n",
    "mean=pd.DataFrame(mean, index=factors)\n",
    "mean"
   ]
  },
  {
   "cell_type": "code",
   "execution_count": null,
   "metadata": {},
   "outputs": [],
   "source": [
    "std"
   ]
  },
  {
   "cell_type": "markdown",
   "metadata": {},
   "source": [
    "#### mean、std 也正好说明：petal_length、petal_width区分布较好。"
   ]
  },
  {
   "cell_type": "markdown",
   "metadata": {},
   "source": [
    "## 数据可视化\n",
    "\n",
    "#### https://seaborn.pydata.org/"
   ]
  },
  {
   "cell_type": "code",
   "execution_count": null,
   "metadata": {},
   "outputs": [],
   "source": [
    "mean.plot(kind='bar',stacked=True)"
   ]
  },
  {
   "cell_type": "code",
   "execution_count": null,
   "metadata": {},
   "outputs": [],
   "source": [
    "fig,ax = plt.subplots(ncols=2, nrows=1, figsize=(8,6))\n",
    "mean.plot(kind=\"bar\", ax=ax[0])\n",
    "std.plot(kind=\"bar\", ax=ax[1])"
   ]
  },
  {
   "cell_type": "code",
   "execution_count": null,
   "metadata": {},
   "outputs": [],
   "source": [
    "print(np.mean(iris['petal_length'].values), np.std(iris['petal_length'].values))\n",
    "print(np.mean(iris['petal_width'].values), np.std(iris['petal_width'].values))\n",
    "print(np.mean(iris['sepal_length'].values), np.std(iris['sepal_length'].values))\n",
    "print(np.mean(iris['sepal_width'].values), np.std(iris['sepal_width'].values))"
   ]
  },
  {
   "cell_type": "markdown",
   "metadata": {},
   "source": [
    "### 花瓣长度(petal-length)分布"
   ]
  },
  {
   "cell_type": "code",
   "execution_count": null,
   "metadata": {},
   "outputs": [],
   "source": [
    "factor = 'petal_length'\n",
    "sns.stripplot(x=\"variety\", y=factor,jitter=True, data=iris, hue='variety')\n",
    "sns.violinplot(x=\"variety\", y =factor, data=iris, color='w', inner=None)\n",
    "plt.grid(True)"
   ]
  },
  {
   "cell_type": "markdown",
   "metadata": {},
   "source": [
    "#### 花瓣宽度(petal-width)分布"
   ]
  },
  {
   "cell_type": "code",
   "execution_count": null,
   "metadata": {},
   "outputs": [],
   "source": [
    "factor = \"petal_width\"\n",
    "sns.stripplot(x=\"variety\", y=factor, jitter=True, data=iris, hue='variety')\n",
    "sns.violinplot(x=\"variety\", y=factor, data=iris, color='w', inner=None)\n",
    "plt.grid(True)"
   ]
  },
  {
   "cell_type": "markdown",
   "metadata": {},
   "source": [
    "#### 萼片宽度(sepal-width)分布"
   ]
  },
  {
   "cell_type": "code",
   "execution_count": null,
   "metadata": {},
   "outputs": [],
   "source": [
    "factor = \"sepal_length\"\n",
    "sns.stripplot(x=\"variety\", y=factor, jitter=True, data=iris, hue='variety')\n",
    "sns.violinplot(x=\"variety\", y=factor, data=iris, color='w', inner=None)\n",
    "plt.grid(True)"
   ]
  },
  {
   "cell_type": "markdown",
   "metadata": {},
   "source": [
    "#### 萼片宽度（sepal-width）分布"
   ]
  },
  {
   "cell_type": "code",
   "execution_count": null,
   "metadata": {},
   "outputs": [],
   "source": [
    "factor = \"sepal_width\"\n",
    "sns.stripplot(x=\"variety\", y=factor, jitter=True, data=iris, hue='variety')\n",
    "sns.violinplot(x=\"variety\", y=factor, data=iris, color='w', inner=None)\n",
    "plt.grid(True)"
   ]
  },
  {
   "cell_type": "markdown",
   "metadata": {},
   "source": [
    "#### Stripplot\n",
    "Stripplot的本质就是把数据集中具有quantitative属性的变量按照类别去做散点图(Scatterplot)。\n",
    "\n",
    "##### 上边左侧的图片便是在默认风格下用stripplot绘制的散点图。在很多情况下，stripplot中的点会重叠，使得我们不容易看出点的分布情况。一个简单的解决办法就是用在stripplot的基础上绘制抖动图(jitterplot)，仅沿着类别坐标轴的方向去随机微调整点的位置，显示出分布情况。"
   ]
  },
  {
   "cell_type": "code",
   "execution_count": null,
   "metadata": {},
   "outputs": [],
   "source": [
    "plt.figure(1,figsize=(16,6))\n",
    "\n",
    "plt.subplot(1,2,1)\n",
    "sns.stripplot(x='variety',y='petal_length',data=iris) #stripplot\n",
    "plt.title('Striplot of sepal length of Iris species')\n",
    "\n",
    "with sns.axes_style(\"whitegrid\"): # 这个是临时设置样式的命令，如果不写，则按默认格式'darkgrid'进行绘制\n",
    "    plt.subplot(1,2,2)\n",
    "    plt.title('Striplot of sepal length of Iris species')\n",
    "    sns.stripplot(x='variety',y='sepal_length',data=iris,jitter=True) # jitterplot\n",
    "\n",
    "plt.show()"
   ]
  },
  {
   "cell_type": "markdown",
   "metadata": {},
   "source": [
    "#### Swarmplot\n",
    "另一个解决stripplot中点重叠的办法就是绘制swarmplot,它的本质就是用通过算法，在类别坐标轴的方向上去‘延展’绘制这些原本重合的点。\n",
    "我们将纸鸢花数据集中不同种类花的petal length和petal width做swarmplot可视化"
   ]
  },
  {
   "cell_type": "code",
   "execution_count": null,
   "metadata": {},
   "outputs": [],
   "source": [
    "plt.figure(1,figsize=(15,6))\n",
    "\n",
    "plt.subplot(1,2,1)\n",
    "sns.swarmplot(x='variety',y='petal_length',data=iris) \n",
    "\n",
    "with sns.axes_style(\"ticks\"): # 这次使用了ticks风格\n",
    "    plt.subplot(1,2,2)\n",
    "    sns.swarmplot(x='variety',y='petal_width',data=iris)\n",
    "\n",
    "plt.show()"
   ]
  },
  {
   "cell_type": "markdown",
   "metadata": {},
   "source": [
    "#### Boxplot\n",
    "箱形图，主要包含六个数据节点，将一组数据从大到小排列，分别计算出上边缘，上四分位数Q3，中位数，下四分位数Q1，下边缘，还有异常值。\n",
    "下面将纸鸢花数据集中的四个变量sepal_length, sepal_width, petal_length和petal_width做箱形图可视化。"
   ]
  },
  {
   "cell_type": "code",
   "execution_count": null,
   "metadata": {},
   "outputs": [],
   "source": [
    "var = ['sepal_length','sepal_width','petal_length','petal_width']\n",
    "context= ['notebook','paper','talk','poster']\n",
    "axes_style = ['ticks','white','whitegrid', 'dark']\n",
    "\n",
    "fig = plt.figure(1,figsize=(15,12))\n",
    "for i in range(4):\n",
    "    with sns.axes_style(axes_style[i]): # 将除了默认的darkgrid之外的样式都展现一遍\n",
    "        plt.subplot(2,2,i+1)\n",
    "        sns.boxplot(x='variety',y=var[i],data=iris)\n",
    "\n",
    "plt.show()\n",
    "\n"
   ]
  },
  {
   "cell_type": "markdown",
   "metadata": {},
   "source": [
    "#### Violinplot\n",
    "Violinplot相当于结合了箱形图与核密度图，更好地展现出数据的量化形态。展示如下："
   ]
  },
  {
   "cell_type": "markdown",
   "metadata": {},
   "source": [
    "### Barplot\n",
    "Barplot主要是展现在分类中的quantitative变量的平均值情况，并且用了boostrapping算法计算了估计值的置信区间和error bar.用鸢尾花数据集展示如下："
   ]
  },
  {
   "cell_type": "code",
   "execution_count": null,
   "metadata": {},
   "outputs": [],
   "source": [
    "var = ['sepal_length','sepal_width','petal_length','petal_width']\n",
    "context= ['notebook','paper','talk','poster']\n",
    "axes_style = ['ticks','white','whitegrid', 'dark']\n",
    "\n",
    "plt.figure(1,figsize=(12,12))\n",
    "for i in range(4):\n",
    "    with sns.axes_style(axes_style[i]):#设置axes_style\n",
    "        sns.set_context(context[i]) # 设置context style,默认为notebook,除此之外还有paper,talk,poster\n",
    "        plt.subplot(2,2,i+1)\n",
    "        plt.title(str(var[i])+ ' in Iris species')\n",
    "        sns.violinplot(x='variety',y=var[i],data=iris)\n",
    "\n",
    "plt.show()\n"
   ]
  },
  {
   "cell_type": "markdown",
   "metadata": {},
   "source": [
    "Violinplot用kernel density estimate去更好地描述了quantitative变量的分布。\n",
    "与此同时，也可以组合swarmplot和boxplot或violinplot去描述quantitative变量。用鸢尾花数据集展示如下："
   ]
  },
  {
   "cell_type": "code",
   "execution_count": null,
   "metadata": {},
   "outputs": [],
   "source": [
    "var = ['sepal_length','sepal_width','petal_length','petal_width']\n",
    "context= ['notebook','paper','talk','poster']\n",
    "axes_style = ['ticks','white','whitegrid', 'dark']\n",
    "\n",
    "plt.figure(1,figsize=(12,12))\n",
    "for i in range(4):\n",
    "    with sns.axes_style(axes_style[i]):#设置axes_style\n",
    "        sns.set_context(context[i])#设置context\n",
    "        plt.subplot(2,2,i+1)\n",
    "        plt.title(str(var[i])+ ' in Iris species')\n",
    "        sns.swarmplot(x='variety', y=var[i], data=iris, color=\"w\", alpha=.5) \n",
    "        sns.violinplot(x='variety', y=var[i], data=iris, inner=None) if i%2 ==0 \\\n",
    "        else sns.boxplot(x='variety', y=var[i], data=iris) # 分别用swarmplot+violinplot 和swarmplot + boxplot\n",
    "\n",
    "plt.show()"
   ]
  },
  {
   "cell_type": "code",
   "execution_count": null,
   "metadata": {},
   "outputs": [],
   "source": [
    "plt.figure(1,figsize=(12,12))\n",
    "for i in range(4):\n",
    "    with sns.axes_style(axes_style[i]):#设置axes_style\n",
    "        sns.set_context(context[i]) # 设置context style,默认为notebook,除此之外还有paper,talk,poster\n",
    "        plt.subplot(2,2,i+1)\n",
    "        plt.title(str(var[i])+ ' in Iris species')\n",
    "        sns.barplot(x='variety',y=var[i],data=iris)\n",
    "plt.show()"
   ]
  },
  {
   "cell_type": "markdown",
   "metadata": {},
   "source": [
    "#### Countplot\n",
    "如果想知道在每个类别下面有多少个观察值，用countplot就可以，相当于是做一个observation counts，用鸢尾花数据集展示如下："
   ]
  },
  {
   "cell_type": "code",
   "execution_count": null,
   "metadata": {},
   "outputs": [],
   "source": [
    "plt.figure(figsize=(5,5))\n",
    "sns.countplot(y=\"variety\", data=iris) # 设置y='species',将countplot水平放置\n",
    "plt.title('Iris species count')\n",
    "plt.show()"
   ]
  },
  {
   "cell_type": "markdown",
   "metadata": {},
   "source": [
    "#### Pointplot\n",
    "Pointplot相当于是对barplot做了一个横向延伸，一方面，用point estimate和confidence level去展示barplot的内容；另一方面，当每一个主类别下面有更细分的sub-category的时候，pointplot可以便于观察不同sub-category在各主类别之间的联系。展示如下："
   ]
  },
  {
   "cell_type": "code",
   "execution_count": null,
   "metadata": {},
   "outputs": [],
   "source": [
    "var = ['sepal_length','sepal_width','petal_length','petal_width']\n",
    "context= ['notebook','paper','talk','poster']\n",
    "axes_style = ['ticks','white','whitegrid', 'dark']\n",
    "\n",
    "plt.figure(1,figsize=(12,12))\n",
    "for i in range(4):\n",
    "    with sns.axes_style(axes_style[i]):#设置axes_style\n",
    "        sns.set_context(context[i]) # 设置context style,默认为notebook,除此之外还有paper,talk,poster\n",
    "        plt.subplot(2,2,i+1)\n",
    "        plt.title(str(var[i])+ ' in Iris species')\n",
    "        sns.pointplot(x='variety',y=var[i],data=iris)\n",
    "plt.show()"
   ]
  },
  {
   "cell_type": "markdown",
   "metadata": {},
   "source": [
    "#### Factorplot\n",
    "Factorplot可以说是seaborn做category visualization的精髓，前面讲的这些plot都可以说是factorplot的具体展示。我们可以用PariGrid去实现对多个类别的数值特征用同一种plot做可视化。"
   ]
  },
  {
   "cell_type": "code",
   "execution_count": null,
   "metadata": {},
   "outputs": [],
   "source": [
    "sns.set(style=\"ticks\")\n",
    "g = sns.PairGrid(iris,\n",
    "            x_vars = ['sepal_length','sepal_width','petal_length','petal_width'],\n",
    "            y_vars = 'variety',\n",
    "            aspect=0.75,size=4) # 设置间距和图片大小\n",
    "g.map(sns.violinplot,palette='pastel')\n",
    "plt.show()\n",
    "\n"
   ]
  },
  {
   "cell_type": "markdown",
   "metadata": {},
   "source": [
    "#### 看相关性"
   ]
  },
  {
   "cell_type": "code",
   "execution_count": null,
   "metadata": {},
   "outputs": [],
   "source": [
    "vars = ['sepal_length','sepal_width','petal_length','petal_width']\n",
    "\n",
    "# 使用 .plot 做散点图\n",
    "iris.plot(kind=\"scatter\", x=\"sepal_length\", y=\"sepal_width\")#数据为萼片的长和宽 结果如下\n",
    "\n"
   ]
  },
  {
   "cell_type": "code",
   "execution_count": null,
   "metadata": {},
   "outputs": [],
   "source": [
    "# 开始使用seaborn了它能同时显示直方图噢\n",
    "sns.jointplot(x=\"sepal_length\", y=\"sepal_width\", data=iris, size=5)"
   ]
  },
  {
   "cell_type": "code",
   "execution_count": null,
   "metadata": {},
   "outputs": [],
   "source": [
    "### 交互\n",
    "\n",
    "sns.set(style=\"darkgrid\")\n",
    "sns.jointplot('petal_length', 'petal_width', data=iris, kind=\"reg\", color=\"m\")\n"
   ]
  },
  {
   "cell_type": "code",
   "execution_count": null,
   "metadata": {},
   "outputs": [],
   "source": [
    "sns.jointplot(data=iris, x=\"petal_length\", y=\"petal_width\", kind=\"reg\")"
   ]
  },
  {
   "cell_type": "code",
   "execution_count": null,
   "metadata": {},
   "outputs": [],
   "source": [
    "iris"
   ]
  },
  {
   "cell_type": "code",
   "execution_count": null,
   "metadata": {},
   "outputs": [],
   "source": [
    "\n",
    "sns.jointplot(data=iris, x=\"petal_length\", y=\"petal_width\", hue=\"variety\")\n"
   ]
  },
  {
   "cell_type": "code",
   "execution_count": null,
   "metadata": {},
   "outputs": [],
   "source": [
    "sns.jointplot(data=iris, x=\"petal_length\", y=\"petal_width\", hue=\"variety\", kind=\"kde\")"
   ]
  },
  {
   "cell_type": "code",
   "execution_count": null,
   "metadata": {},
   "outputs": [],
   "source": [
    "sns.jointplot(data=iris, x=\"petal_length\", y=\"petal_width\", kind=\"hist\")"
   ]
  },
  {
   "cell_type": "code",
   "execution_count": null,
   "metadata": {},
   "outputs": [],
   "source": [
    "sns.jointplot(data=iris, x=\"petal_length\", y=\"petal_width\", kind=\"hex\")"
   ]
  },
  {
   "cell_type": "code",
   "execution_count": null,
   "metadata": {},
   "outputs": [],
   "source": [
    "### 自定义\n",
    "sns.jointplot(\n",
    "    data=iris, x=\"petal_length\", y=\"petal_width\",\n",
    "    marker=\"+\", s=100, marginal_kws=dict(bins=25, fill=False),\n",
    ")"
   ]
  },
  {
   "cell_type": "code",
   "execution_count": null,
   "metadata": {},
   "outputs": [],
   "source": [
    "sns.jointplot(data=iris, x=\"petal_length\", y=\"petal_width\",\\\n",
    "    height=5, ratio=2, marginal_ticks=True)\n",
    "\n"
   ]
  },
  {
   "cell_type": "code",
   "execution_count": null,
   "metadata": {},
   "outputs": [],
   "source": [
    "sns.jointplot(data=iris, x=\"petal_length\", y=\"petal_width\",\\\n",
    "    height=5, ratio=2, marginal_ticks=True, hue=\"variety\")\n",
    "\n"
   ]
  },
  {
   "cell_type": "code",
   "execution_count": null,
   "metadata": {},
   "outputs": [],
   "source": [
    "### 联合图\n",
    "g = sns.jointplot(data=iris, x=\"petal_length\", y=\"petal_width\")\n",
    "g.plot_joint(sns.kdeplot, color=\"r\", zorder=0, levels=6)\n",
    "g.plot_marginals(sns.rugplot, color=\"r\", height=-.15, clip_on=False)"
   ]
  },
  {
   "cell_type": "code",
   "execution_count": null,
   "metadata": {},
   "outputs": [],
   "source": [
    "\n",
    "palette = sns.color_palette(\"rocket_r\")\n",
    "sns.relplot(\n",
    "    data=iris,\n",
    "    x=\"petal_length\", y=\"petal_width\",\n",
    "    hue=\"variety\", \n",
    "    kind=\"line\", size_order=[\"T1\", \"T2\"], \n",
    "    height=5, aspect=.75, facet_kws=dict(sharex=False),\n",
    ")\n"
   ]
  },
  {
   "cell_type": "code",
   "execution_count": null,
   "metadata": {},
   "outputs": [],
   "source": [
    "# 我们还可以用seaborn's FacetGrid 标记不同的种类噢\n",
    "g = sns.FacetGrid(iris, hue=\"variety\", size=5)\n",
    "g.map(plt.scatter, \"sepal_length\", \"sepal_width\")\n",
    "g.add_legend()"
   ]
  },
  {
   "cell_type": "code",
   "execution_count": null,
   "metadata": {},
   "outputs": [],
   "source": [
    "g = sns.PairGrid(iris, x_vars = ['sepal_length','sepal_width'], y_vars=\"variety\", size=5)\n",
    "g.map(plt.scatter)\n",
    "g.add_legend()"
   ]
  },
  {
   "cell_type": "code",
   "execution_count": null,
   "metadata": {},
   "outputs": [],
   "source": [
    "sns.kdeplot(x='sepal_length',data=iris)"
   ]
  },
  {
   "cell_type": "code",
   "execution_count": null,
   "metadata": {},
   "outputs": [],
   "source": [
    "# 通过这个曲线图可以看出不同特征值时的分布密度\n",
    "sns.FacetGrid(iris, hue=\"variety\", size=6) \\\n",
    "   .map(sns.kdeplot, \"sepal_length\") \\\n",
    "   .add_legend()"
   ]
  },
  {
   "cell_type": "code",
   "execution_count": null,
   "metadata": {},
   "outputs": [],
   "source": [
    "# 利用striplot可以锦上添花，加上散点图\n",
    "# 使振动值jitter=True 使各个散点分开，要不然会是一条直线\n",
    "# 注意这里将坐标图用ax来保存了哦，这样第二次才会在原来的基础上加点\n",
    "ax = sns.boxplot(x=\"variety\", y=\"sepal_length\", data=iris)\n",
    "ax = sns.stripplot(x=\"variety\", y=\"sepal_length\", data=iris, jitter=True, edgecolor=\"gray\")"
   ]
  },
  {
   "cell_type": "code",
   "execution_count": null,
   "metadata": {},
   "outputs": [],
   "source": [
    "#  pairplot显示不同特征之间的关系\n",
    "sns.pairplot(iris, hue=\"variety\", size=3)"
   ]
  },
  {
   "cell_type": "code",
   "execution_count": null,
   "metadata": {},
   "outputs": [],
   "source": [
    "# 修改参数dige_kind\n",
    "sns.pairplot(iris, hue=\"variety\", size=3, diag_kind=\"kde\")"
   ]
  },
  {
   "cell_type": "code",
   "execution_count": null,
   "metadata": {},
   "outputs": [],
   "source": [
    "iris.boxplot(by=\"variety\", figsize=(16, 6))"
   ]
  },
  {
   "cell_type": "code",
   "execution_count": null,
   "metadata": {},
   "outputs": [],
   "source": [
    "# 画图的函数在下面，我们会发现相同种类的线总是缠绵在一起，可以和聚类混在一起噢，事实上他们与欧氏距离是有关系的\n",
    "from pandas.plotting import andrews_curves\n",
    "andrews_curves(iris, \"variety\")\n"
   ]
  },
  {
   "cell_type": "code",
   "execution_count": null,
   "metadata": {},
   "outputs": [],
   "source": [
    "# 轮廓图也是看高维数据的一种方法，将不同的特征放在横坐标，然后将各点的特征值放在纵坐标就可以了\n",
    "from pandas.plotting import parallel_coordinates\n",
    "parallel_coordinates(iris, \"variety\")\n",
    "\n"
   ]
  },
  {
   "cell_type": "code",
   "execution_count": null,
   "metadata": {},
   "outputs": [],
   "source": [
    "# 这也是一种将高维点表现在二维平面的方法，具体作图方法应该在上面的网址上应该有\n",
    "from pandas.plotting import radviz\n",
    "radviz(iris.drop(\"target\", axis=1), \"variety\")"
   ]
  },
  {
   "cell_type": "code",
   "execution_count": null,
   "metadata": {},
   "outputs": [],
   "source": [
    "X_train, X_test, y_train, y_test = train_test_split(X, y, test_size=0.3, random_state=0) \n",
    "sc = StandardScaler()   #初始化一个对象sc去对数据集作变换, 数据标准化，\n",
    "sc.fit(X_train)\n",
    "print(sc.scale_) ## 标准化后每列的标准差\n",
    "print(sc.mean_) ### 标准化后每列的均值\n",
    "\n",
    "X_train_std = sc.transform(X_train)\n",
    "X_test_std = sc.transform(X_test)\n",
    "print(X_train_std.shape, X_test_std.shape)"
   ]
  },
  {
   "cell_type": "markdown",
   "metadata": {},
   "source": [
    "#### 数据分析"
   ]
  },
  {
   "cell_type": "markdown",
   "metadata": {},
   "source": [
    "<img src=\"../data/src/flow.png\" width=\"40%\">"
   ]
  },
  {
   "cell_type": "code",
   "execution_count": null,
   "metadata": {},
   "outputs": [],
   "source": []
  },
  {
   "cell_type": "markdown",
   "metadata": {},
   "source": [
    "#### 分类与可视化"
   ]
  },
  {
   "cell_type": "code",
   "execution_count": null,
   "metadata": {},
   "outputs": [],
   "source": [
    "ppn = Perceptron()  #y=w.x+b\n",
    "ppn.fit(X_train_std, y_train)\n",
    "\n",
    "y_pred = ppn.predict(X_test_std)  #对测试集做类别预测\n",
    "\n",
    "\n",
    "print('Misclassified samples: %d' % (y_test != y_pred).sum())\n",
    "#Output:Misclassified samples: 3\n",
    "from sklearn.metrics import accuracy_score\n",
    "print('Accuracy: %.2f' % accuracy_score(y_test, y_pred))  #预测准确度,(len(y_test)-3)/len(y_test):0.9333333333333333\n",
    "\n"
   ]
  }
 ],
 "metadata": {
  "interpreter": {
   "hash": "a338fa885ab25313086c96b3e0e37cfd5996cf901ac36b01eee44ac23ddc6eb8"
  },
  "kernelspec": {
   "display_name": "Python 3.6.5 64-bit ('Anaconda')",
   "language": "python",
   "name": "python3"
  },
  "language_info": {
   "codemirror_mode": {
    "name": "ipython",
    "version": 3
   },
   "file_extension": ".py",
   "mimetype": "text/x-python",
   "name": "python",
   "nbconvert_exporter": "python",
   "pygments_lexer": "ipython3",
   "version": "3.6.5"
  },
  "orig_nbformat": 4
 },
 "nbformat": 4,
 "nbformat_minor": 2
}
