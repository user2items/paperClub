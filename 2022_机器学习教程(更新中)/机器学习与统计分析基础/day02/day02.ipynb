{
 "cells": [
  {
   "cell_type": "markdown",
   "metadata": {},
   "source": [
    "### 排序方法"
   ]
  },
  {
   "cell_type": "markdown",
   "metadata": {},
   "source": [
    "#### 1. 一维数组分类"
   ]
  },
  {
   "cell_type": "code",
   "execution_count": 5,
   "metadata": {},
   "outputs": [
    {
     "name": "stdout",
     "output_type": "stream",
     "text": [
      "\n"
     ]
    },
    {
     "data": {
      "text/plain": [
       "[[0.3, 0.35, 2.0, 2.1, 8.0], [25.0]]"
      ]
     },
     "execution_count": 5,
     "metadata": {},
     "output_type": "execute_result"
    }
   ],
   "source": [
    "#### 将数组中相近的数据聚类在一起\n",
    "\n",
    "import numpy as np\n",
    "import pandas as pd\n",
    "\n",
    "\n",
    "#### 根据标准差分类\n",
    "\n",
    "def Zcluser(X, threshold = None):\n",
    "        idxs, groups = [],[]\n",
    "        array = np.array(X.copy())\n",
    "        DATA=pd.Series(np.array(X))\n",
    "        if threshold is None:\n",
    "            threshold = np.std(array)\n",
    "\n",
    "        while len(DATA):\n",
    "            group_idx, group_dt = [], []\n",
    "            if len(DATA) == 1:\n",
    "                group_idx.extend(list(DATA.index))\n",
    "                group_dt.extend(list(DATA))\n",
    "                DATA=DATA.drop(DATA.index)\n",
    "            else:\n",
    "                idx = DATA.index[0]\n",
    "                dt = DATA[idx]\n",
    "                DATA = DATA.drop(idx)\n",
    "                dist = abs(DATA - dt)\n",
    "\n",
    "                if (dist <= threshold).any():\n",
    "                    data = DATA[dist <= threshold]\n",
    "                    DATA = DATA.drop(data.index)\n",
    "                    group_idx.extend([idx] + list(data.index))\n",
    "                    group_dt.extend([dt]+list(data))\n",
    "                else:\n",
    "                    group_idx.extend([idx])\n",
    "                    group_dt.extend([dt])\n",
    "\n",
    "            idxs.append(group_idx)\n",
    "            groups.append(group_dt)\n",
    "\n",
    "        return idxs, groups\n",
    "\n",
    "print()\n",
    "X = [0.3, 0.35, 2.0, 2.1, 8, 25]\n",
    "\n",
    "Zcluser(X)[-1]"
   ]
  },
  {
   "cell_type": "markdown",
   "metadata": {},
   "source": [
    "##### 2. 多维数组排序"
   ]
  },
  {
   "cell_type": "code",
   "execution_count": 12,
   "metadata": {},
   "outputs": [
    {
     "name": "stdout",
     "output_type": "stream",
     "text": [
      "一维数组排序：\n",
      "排序后结果：(array([0.8403781 , 0.8363614 , 0.81918824]), array([5, 2, 0], dtype=int64))\n",
      "\n",
      "二维数组排序：\n",
      "排序后结果：(array([[0.8403781, 0.8363614],\n",
      "       [0.8403781, 0.8363614]]), array([[5, 2],\n",
      "       [4, 1]], dtype=int64))\n"
     ]
    }
   ],
   "source": [
    "\n",
    "import numpy as np\n",
    "\n",
    "def get_sorted_top_k_d2(array, top_k=1, axis=-1, reverse=True):\n",
    "    \"\"\"\n",
    "    多维数组排序（支持1维）\n",
    "    Args:\n",
    "        array: 多维数组\n",
    "        top_k: 取数\n",
    "        axis: 轴维度\n",
    "        reverse: 是否倒序\n",
    "\n",
    "    Returns:\n",
    "        top_sorted_values: 排序后值\n",
    "        top_sorted_indexes: 值对应位置\n",
    "    \"\"\"\n",
    "    axis_length = array.shape[axis]\n",
    "    if top_k > axis_length:\n",
    "        print(f\"top_k: {top_k} 超界, 将被设置为：{axis_length}\")\n",
    "        top_k = axis_length\n",
    "\n",
    "    if reverse:\n",
    "        # axis_length = array.shape[axis]\n",
    "        partition_index = np.take(np.argpartition(array, kth=-top_k, axis=axis),\n",
    "                                  range(axis_length - top_k, axis_length), axis)\n",
    "    else:\n",
    "        partition_index = np.take(np.argpartition(array, kth=top_k, axis=axis), range(0, top_k), axis)\n",
    "    top_values = np.take_along_axis(array, partition_index, axis)\n",
    "    # 分区后重新排序\n",
    "    sorted_index = np.argsort(top_values, axis=axis)\n",
    "    if reverse:\n",
    "        sorted_index = np.flip(sorted_index, axis=axis)\n",
    "    top_sorted_values = np.take_along_axis(top_values, sorted_index, axis)\n",
    "    top_sorted_indexes = np.take_along_axis(partition_index, sorted_index, axis)\n",
    "    return top_sorted_values, top_sorted_indexes\n",
    "\n",
    "\n",
    "\n",
    "print(\"一维数组排序：\")\n",
    "\n",
    "X = np.array([0.81918824, 0.81611025, 0.8363614, 0.8174835, 0.81348515, 0.8403781 ])\n",
    "res = get_sorted_top_k_d2(X, top_k=3)\n",
    "print(f\"排序后结果：{res}\")\n",
    "\n",
    "print()\n",
    "print(\"二维数组排序：\")\n",
    "X = np.array([\n",
    "                [0.81918824, 0.81611025, 0.8363614, 0.8174835, 0.81348515, 0.8403781],\n",
    "                [0.81918824, 0.8363614, 0.8174835, 0.81348515, 0.8403781, 0.81611025 ],\n",
    "            ])\n",
    "\n",
    "res = get_sorted_top_k_d2(X, top_k=2)\n",
    "print(f\"排序后结果：{res}\")"
   ]
  },
  {
   "cell_type": "markdown",
   "metadata": {},
   "source": [
    "#### 3. tensor 数组余璇相似度计算"
   ]
  },
  {
   "cell_type": "code",
   "execution_count": 24,
   "metadata": {},
   "outputs": [
    {
     "name": "stdout",
     "output_type": "stream",
     "text": [
      "Tensor 内积： tensor([1., 1., 1., 1., 1., 1.], dtype=torch.float64)\n"
     ]
    },
    {
     "data": {
      "text/plain": [
       "[1.0, 1.0]"
      ]
     },
     "execution_count": 24,
     "metadata": {},
     "output_type": "execute_result"
    }
   ],
   "source": [
    "import numpy as np\n",
    "import torch\n",
    "from torch import Tensor\n",
    "\n",
    "def cos_sim(a: Tensor, b: Tensor):\n",
    "    \"\"\"\n",
    "    Computes the cosine similarity cos_sim(a[i], b[j]) for all i and j.\n",
    "    :return: Matrix with res[i][j]  = cos_sim(a[i], b[j])\n",
    "    \"\"\"\n",
    "    if not isinstance(a, torch.Tensor):\n",
    "        a = torch.tensor(a)\n",
    "\n",
    "    if not isinstance(b, torch.Tensor):\n",
    "        b = torch.tensor(b)\n",
    "\n",
    "    if len(a.shape) == 1:\n",
    "        a = a.unsqueeze(0)\n",
    "\n",
    "    if len(b.shape) == 1:\n",
    "        b = b.unsqueeze(0)\n",
    "\n",
    "    a_norm = torch.nn.functional.normalize(a, p=2, dim=1)\n",
    "    b_norm = torch.nn.functional.normalize(b, p=2, dim=1)\n",
    "    return torch.mm(a_norm, b_norm.transpose(0, 1))\n",
    "\n",
    "X = np.array([0.81918824, 0.81611025, 0.8363614, 0.8174835, 0.81348515, 0.8403781 ]).reshape(-1, 1)\n",
    "X = torch.tensor(X)\n",
    "x1 = torch.tensor(np.array([0.01]))\n",
    "\n",
    "cos_score = cos_sim(x1, X)[0]\n",
    "top_result = torch.topk(cos_score, k=2)\n",
    "index = top_result.indices.detach().cpu().numpy().tolist() ### 相似 nid\n",
    "scores = top_result.values.detach().cpu().numpy().tolist() ### 相似分数\n",
    "print(\"Tensor 内积：\", cos_score)\n",
    "scores"
   ]
  },
  {
   "cell_type": "markdown",
   "metadata": {},
   "source": [
    "##### 余璇相似度"
   ]
  },
  {
   "cell_type": "code",
   "execution_count": 29,
   "metadata": {},
   "outputs": [
    {
     "data": {
      "text/plain": [
       "array([1., 1., 1., 1., 1., 1.])"
      ]
     },
     "execution_count": 29,
     "metadata": {},
     "output_type": "execute_result"
    }
   ],
   "source": [
    "from sklearn.metrics.pairwise import cosine_similarity\n",
    "\n",
    "X = np.array([0.81918824, 0.81611025, 0.8363614, 0.8174835, 0.81348515, 0.8403781 ]).reshape(-1, 1)\n",
    "x1 = np.array([0.01]).reshape(-1, 1)\n",
    "\n",
    "scores = cosine_similarity(x1, X)[0]\n",
    "scores"
   ]
  }
 ],
 "metadata": {
  "kernelspec": {
   "display_name": "Python 3.6.5 ('base')",
   "language": "python",
   "name": "python3"
  },
  "language_info": {
   "codemirror_mode": {
    "name": "ipython",
    "version": 3
   },
   "file_extension": ".py",
   "mimetype": "text/x-python",
   "name": "python",
   "nbconvert_exporter": "python",
   "pygments_lexer": "ipython3",
   "version": "3.6.5"
  },
  "orig_nbformat": 4,
  "vscode": {
   "interpreter": {
    "hash": "b09ec625f77bf4fd762565a912b97636504ad6ec901eb2d0f4cf5a7de23e1ee5"
   }
  }
 },
 "nbformat": 4,
 "nbformat_minor": 2
}
